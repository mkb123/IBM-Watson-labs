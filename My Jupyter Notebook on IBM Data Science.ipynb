{
    "cells": [
        {
            "metadata": {
                "collapsed": true
            },
            "cell_type": "markdown",
            "source": "# \"My Jupyter Notebook on IBM Data Science Experience\""
        },
        {
            "metadata": {},
            "cell_type": "markdown",
            "source": "**Mark Benhaim** \n\nDay trader"
        },
        {
            "metadata": {},
            "cell_type": "markdown",
            "source": "*I am interested in data science because I will be able to expand on my skills for trading to new avenues. By way of example, I will be able to visualize data with large data sets, create algorithms and develop new strategies. I also would like to learn more hard skills such as coding, which will make my skillset more well-rounded and attractable to employers*"
        },
        {
            "metadata": {},
            "cell_type": "markdown",
            "source": "My code in cell 5 is meant to subtract 10 from 20 to calculate an output of 10"
        },
        {
            "metadata": {},
            "cell_type": "code",
            "source": "20-10",
            "execution_count": 5,
            "outputs": [
                {
                    "output_type": "execute_result",
                    "execution_count": 5,
                    "data": {
                        "text/plain": "10"
                    },
                    "metadata": {}
                }
            ]
        },
        {
            "metadata": {},
            "cell_type": "markdown",
            "source": "---\n1. Desk\n2. Lamp\n3. Computer\n4. Chair\n---\n<http://google.com>\n\n"
        },
        {
            "metadata": {},
            "cell_type": "code",
            "source": "",
            "execution_count": null,
            "outputs": []
        }
    ],
    "metadata": {
        "kernelspec": {
            "name": "python3",
            "display_name": "Python 3.6",
            "language": "python"
        },
        "language_info": {
            "name": "python",
            "version": "3.6.8",
            "mimetype": "text/x-python",
            "codemirror_mode": {
                "name": "ipython",
                "version": 3
            },
            "pygments_lexer": "ipython3",
            "nbconvert_exporter": "python",
            "file_extension": ".py"
        }
    },
    "nbformat": 4,
    "nbformat_minor": 1
}